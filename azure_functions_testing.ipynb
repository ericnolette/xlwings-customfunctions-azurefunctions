{
 "cells": [
  {
   "cell_type": "code",
   "execution_count": 3,
   "metadata": {},
   "outputs": [],
   "source": [
    "import os\n",
    "from google.oauth2 import service_account\n",
    "from google.cloud import bigquery\n",
    "credentials = service_account.Credentials.from_service_account_info(\n",
    "    os.environ[\"GCP_SA\"]\n",
    ")"
   ]
  },
  {
   "cell_type": "code",
   "execution_count": null,
   "metadata": {},
   "outputs": [],
   "source": [
    "import os\n",
    "from google.oauth2 import service_account\n",
    "from google.cloud import bigquery\n",
    "\n",
    "credentials = service_account.Credentials.from_service_account_info(\n",
    "    os.environ[\"GCP_SA\"]\n",
    ")\n",
    "\n",
    "@pro.func\n",
    "async def layoffs_fyi():\n",
    "    sql = '''  \n",
    "    SELECT \n",
    "    date(date) as date,\n",
    "    company,\n",
    "    employees_laid_off,\n",
    "    concat(cast(round(percent_laid_off*100,2) as string),\"%\") as percent_laid_off,\n",
    "    datamachine_load_time\n",
    "    FROM `datamachine-407200.macro.layoffs_fyi`\n",
    "    WHERE datamachine_load_time = (select max(datamachine_load_time) from `datamachine-407200.macro.layoffs_fyi`)\n",
    "    ORDER BY date desc\n",
    "    '''\n",
    "    async with bigquery.Client(credentials=credentials) as client:\n",
    "        df = client.query(sql).to_dataframe()\n",
    "    return df"
   ]
  }
 ],
 "metadata": {
  "kernelspec": {
   "display_name": "Python 3",
   "language": "python",
   "name": "python3"
  },
  "language_info": {
   "codemirror_mode": {
    "name": "ipython",
    "version": 3
   },
   "file_extension": ".py",
   "mimetype": "text/x-python",
   "name": "python",
   "nbconvert_exporter": "python",
   "pygments_lexer": "ipython3",
   "version": "3.12.2"
  }
 },
 "nbformat": 4,
 "nbformat_minor": 2
}
